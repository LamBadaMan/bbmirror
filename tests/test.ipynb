{
 "cells": [
  {
   "cell_type": "code",
   "execution_count": null,
   "metadata": {},
   "outputs": [],
   "source": [
    "import pandas as pd\n",
    "from blp import blp\n",
    "import json\n",
    "bquery = blp.BlpQuery().start()\n"
   ]
  },
  {
   "cell_type": "code",
   "execution_count": null,
   "metadata": {},
   "outputs": [],
   "source": [
    "\n",
    "bquery.bdh(\n",
    "    [\"SPY US Equity\", \"TLT US Equity\"],\n",
    "    [\"PX_LAST\", \"VOLUME\"],\n",
    "    start_date=\"20190101\",\n",
    "    end_date=\"20190110\",\n",
    "    options={\"adjustmentSplit\": True}\n",
    ").to_json()"
   ]
  },
  {
   "cell_type": "code",
   "execution_count": null,
   "metadata": {},
   "outputs": [],
   "source": [
    "bquery.stop()"
   ]
  },
  {
   "cell_type": "code",
   "execution_count": null,
   "metadata": {},
   "outputs": [],
   "source": [
    "\n",
    "bquery.bdh(\n",
    "    [\"SPY US Equity\", \"TLT US Equity\"],\n",
    "    [\"PX_LAST\", \"VOLUME\"],\n",
    "    start_date=\"20190101\",\n",
    "    end_date=\"20190110\",\n",
    "    options={\"adjustmentSplit\": True}\n",
    ")"
   ]
  },
  {
   "cell_type": "code",
   "execution_count": null,
   "metadata": {},
   "outputs": [],
   "source": []
  }
 ],
 "metadata": {
  "kernelspec": {
   "display_name": ".venv",
   "language": "python",
   "name": "python3"
  },
  "language_info": {
   "codemirror_mode": {
    "name": "ipython",
    "version": 3
   },
   "file_extension": ".py",
   "mimetype": "text/x-python",
   "name": "python",
   "nbconvert_exporter": "python",
   "pygments_lexer": "ipython3",
   "version": "3.13.2"
  }
 },
 "nbformat": 4,
 "nbformat_minor": 2
}
